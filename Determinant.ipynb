{
 "cells": [
  {
   "cell_type": "code",
   "execution_count": 1,
   "metadata": {},
   "outputs": [],
   "source": [
    "import numpy as np"
   ]
  },
  {
   "cell_type": "code",
   "execution_count": 2,
   "metadata": {},
   "outputs": [],
   "source": [
    "def determinant(m):\n",
    "    if m.shape[0] != m.shape[1]:\n",
    "        return \"Error: Determinant is only defined for square matrices\"\n",
    "    elif m.shape[0] == 1:\n",
    "        return m[0]\n",
    "    elif m.shape[0] == 2:\n",
    "        return m[0][0]*m[1][1] - m[0][1]*m[1][0]\n",
    "    else:\n",
    "        result = 0\n",
    "        for n in range(m.shape[0]):\n",
    "            lst = list(range(m.shape[0]))\n",
    "            lst.remove(n)\n",
    "            result += m[0][n]*((-1)**(n))*determinant(m[1:,lst])\n",
    "        return result "
   ]
  },
  {
   "cell_type": "code",
   "execution_count": 4,
   "metadata": {},
   "outputs": [
    {
     "data": {
      "text/plain": [
       "-3"
      ]
     },
     "execution_count": 4,
     "metadata": {},
     "output_type": "execute_result"
    }
   ],
   "source": [
    "determinant(np.array([[1,2,3],[4,5,6],[7,8,10]]))"
   ]
  },
  {
   "cell_type": "code",
   "execution_count": null,
   "metadata": {},
   "outputs": [],
   "source": []
  }
 ],
 "metadata": {
  "kernelspec": {
   "display_name": "Python 3",
   "language": "python",
   "name": "python3"
  },
  "language_info": {
   "codemirror_mode": {
    "name": "ipython",
    "version": 3
   },
   "file_extension": ".py",
   "mimetype": "text/x-python",
   "name": "python",
   "nbconvert_exporter": "python",
   "pygments_lexer": "ipython3",
   "version": "3.8.5"
  }
 },
 "nbformat": 4,
 "nbformat_minor": 4
}
